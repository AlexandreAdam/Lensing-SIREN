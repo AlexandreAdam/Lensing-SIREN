{
 "cells": [
  {
   "cell_type": "code",
   "execution_count": 1,
   "metadata": {},
   "outputs": [],
   "source": [
    "from lensiren.torch import Siren, TNGDataset, MAMLSiren\n",
    "import torch"
   ]
  },
  {
   "cell_type": "code",
   "execution_count": 4,
   "metadata": {},
   "outputs": [
    {
     "name": "stdout",
     "output_type": "stream",
     "text": [
      "model_epoch_0002.pth  model_epoch_0018.pth  model_epoch_0034.pth\n",
      "model_epoch_0004.pth  model_epoch_0020.pth  model_epoch_0036.pth\n",
      "model_epoch_0006.pth  model_epoch_0022.pth  model_epoch_0038.pth\n",
      "model_epoch_0008.pth  model_epoch_0024.pth  model_epoch_0040.pth\n",
      "model_epoch_0010.pth  model_epoch_0026.pth  model_epoch_0042.pth\n",
      "model_epoch_0012.pth  model_epoch_0028.pth  model_epoch_0044.pth\n",
      "model_epoch_0014.pth  model_epoch_0030.pth  script_params.json\n",
      "model_epoch_0016.pth  model_epoch_0032.pth\n"
     ]
    }
   ],
   "source": [
    "!ls "
   ]
  },
  {
   "cell_type": "code",
   "execution_count": 10,
   "metadata": {},
   "outputs": [],
   "source": [
    "path = \"../models/maml_siren_220206133235/model_epoch_0044.pth\""
   ]
  },
  {
   "cell_type": "code",
   "execution_count": 12,
   "metadata": {},
   "outputs": [],
   "source": [
    "from argparse import Namespace\n",
    "import json\n",
    "with open(\"../models/maml_siren_220206133235/script_params.json\") as f:\n",
    "    params = json.load(f)\n",
    "args = Namespace()\n",
    "vars(args).update(params)\n",
    "\n",
    "siren = Siren(\n",
    "    in_features=2,\n",
    "    hidden_features=args.hidden_features,\n",
    "    hidden_layers=args.hidden_layers,\n",
    "    out_features=1,\n",
    "    outermost_linear=True,\n",
    "    first_omega_0=args.first_omega,\n",
    "    hidden_omega_0=args.hidden_omega\n",
    ")"
   ]
  },
  {
   "cell_type": "code",
   "execution_count": 13,
   "metadata": {},
   "outputs": [
    {
     "data": {
      "text/plain": [
       "<All keys matched successfully>"
      ]
     },
     "execution_count": 13,
     "metadata": {},
     "output_type": "execute_result"
    }
   ],
   "source": [
    "siren.load_state_dict(torch.load(path))"
   ]
  },
  {
   "cell_type": "code",
   "execution_count": null,
   "metadata": {},
   "outputs": [],
   "source": []
  }
 ],
 "metadata": {
  "kernelspec": {
   "display_name": "Python 3 (ipykernel)",
   "language": "python",
   "name": "python3"
  },
  "language_info": {
   "codemirror_mode": {
    "name": "ipython",
    "version": 3
   },
   "file_extension": ".py",
   "mimetype": "text/x-python",
   "name": "python",
   "nbconvert_exporter": "python",
   "pygments_lexer": "ipython3",
   "version": "3.8.10"
  }
 },
 "nbformat": 4,
 "nbformat_minor": 4
}
